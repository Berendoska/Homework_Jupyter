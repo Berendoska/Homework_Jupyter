{
 "cells": [
  {
   "cell_type": "markdown",
   "id": "b3610ee9",
   "metadata": {},
   "source": [
    "**Условия задачи**\n",
    "\n",
    "f(x) = (sin(x)/2 + cos(x)/2) ** 2 * sin(x)\n",
    "\n",
    "- Определить корни\n",
    "\n",
    "- Найти интервалы, на которых функция возрастает\n",
    "\n",
    "- Найти интервалы, на которых функция убывает\n",
    "\n",
    "- Построить график\n",
    "\n",
    "- Вычислить вершину\n",
    "\n",
    "- Определить промежутки, на котором f > 0\n",
    "\n",
    "- Определить промежутки, на котором f < 0\n"
   ]
  },
  {
   "cell_type": "code",
   "execution_count": 18,
   "id": "3d63ac28",
   "metadata": {},
   "outputs": [],
   "source": [
    "from sympy import *  \n",
    "import sympy as sp\n"
   ]
  },
  {
   "cell_type": "code",
   "execution_count": 19,
   "id": "469e8f1c",
   "metadata": {},
   "outputs": [],
   "source": [
    "\n",
    "x = sp.Symbol('x')"
   ]
  },
  {
   "cell_type": "code",
   "execution_count": 20,
   "id": "4f8f6827",
   "metadata": {},
   "outputs": [
    {
     "data": {
      "text/latex": [
       "$\\displaystyle \\left(\\frac{\\sin{\\left(x \\right)}}{2} + \\frac{\\cos{\\left(x \\right)}}{2}\\right)^{2} \\sin{\\left(x \\right)}$"
      ],
      "text/plain": [
       "(sin(x)/2 + cos(x)/2)**2*sin(x)"
      ]
     },
     "execution_count": 20,
     "metadata": {},
     "output_type": "execute_result"
    }
   ],
   "source": [
    "f = (sin(x)/2 + cos(x)/2) ** 2 * sin(x)\n",
    "f"
   ]
  },
  {
   "cell_type": "markdown",
   "id": "b5f03c71",
   "metadata": {},
   "source": [
    "_Переодичность функции_"
   ]
  },
  {
   "cell_type": "code",
   "execution_count": 21,
   "id": "573b8dd2",
   "metadata": {},
   "outputs": [
    {
     "data": {
      "text/latex": [
       "$\\displaystyle 2 \\pi$"
      ],
      "text/plain": [
       "2*pi"
      ]
     },
     "execution_count": 21,
     "metadata": {},
     "output_type": "execute_result"
    }
   ],
   "source": [
    "per = periodicity(f,x)\n",
    "per"
   ]
  },
  {
   "cell_type": "markdown",
   "id": "89f9be43",
   "metadata": {},
   "source": [
    "**Определяем корни**"
   ]
  },
  {
   "cell_type": "code",
   "execution_count": 22,
   "id": "4ea2c3c8",
   "metadata": {},
   "outputs": [
    {
     "data": {
      "text/plain": [
       "[0, -pi/4, 3*pi/4, pi]"
      ]
     },
     "execution_count": 22,
     "metadata": {},
     "output_type": "execute_result"
    }
   ],
   "source": [
    "sq = solve(f, x)\n",
    "sq"
   ]
  },
  {
   "cell_type": "markdown",
   "id": "5d6f5f9e",
   "metadata": {},
   "source": [
    "_Производная_"
   ]
  },
  {
   "cell_type": "code",
   "execution_count": 23,
   "id": "e1b16b5a",
   "metadata": {},
   "outputs": [
    {
     "data": {
      "text/latex": [
       "$\\displaystyle \\left(- \\sin{\\left(x \\right)} + \\cos{\\left(x \\right)}\\right) \\left(\\frac{\\sin{\\left(x \\right)}}{2} + \\frac{\\cos{\\left(x \\right)}}{2}\\right) \\sin{\\left(x \\right)} + \\left(\\frac{\\sin{\\left(x \\right)}}{2} + \\frac{\\cos{\\left(x \\right)}}{2}\\right)^{2} \\cos{\\left(x \\right)}$"
      ],
      "text/plain": [
       "(-sin(x) + cos(x))*(sin(x)/2 + cos(x)/2)*sin(x) + (sin(x)/2 + cos(x)/2)**2*cos(x)"
      ]
     },
     "execution_count": 23,
     "metadata": {},
     "output_type": "execute_result"
    }
   ],
   "source": [
    "ext = f.diff(x)\n",
    "ext"
   ]
  },
  {
   "cell_type": "markdown",
   "id": "934e8bc7",
   "metadata": {},
   "source": [
    "**Интервалы на которых функция:**\n",
    " - возрастает\n",
    " - убывает"
   ]
  },
  {
   "cell_type": "code",
   "execution_count": 24,
   "id": "8799eae3",
   "metadata": {},
   "outputs": [
    {
     "name": "stdout",
     "output_type": "stream",
     "text": [
      "1. Корни производной функции:\n",
      " [-2*atan(-3/2 + sqrt(6)*sqrt(5 - sqrt(17))/2 + sqrt(17)/2), -pi/4, 2*atan(-sqrt(6)*sqrt(sqrt(17) + 5)/2 + 3/2 + sqrt(17)/2), 2*atan(-sqrt(17)/2 + sqrt(6)*sqrt(5 - sqrt(17))/2 + 3/2), 3*pi/4, 2*atan(3/2 + sqrt(17)/2 + sqrt(6)*sqrt(sqrt(17) + 5)/2)]\n",
      "2. Корни производной функции в числовом значении: -2.08246597090872, -0.785398163397448, -0.273728519283620, 1.05912668268107, 2.35619449019234, 2.86786413430617, \n",
      "\n",
      "функция возрастает на отрезке: Interval(-2.082, -0.785)\n",
      "функция убывает на отрезке: Interval(-0.785, -0.274)\n",
      "функция возрастает на отрезке: Interval(-0.274, 1.059)\n",
      "функция убывает на отрезке: Interval(1.059, 2.356)\n",
      "функция возрастает на отрезке: Interval(2.356, 2.868)\n"
     ]
    }
   ],
   "source": [
    "sq_dif=sorted(solve(ext))\n",
    "print(f'{1}. Корни производной функции:\\n {sq_dif}')\n",
    "print(f'{2}. Корни производной функции в числовом значении', end = ': ')\n",
    "for i in sq_dif:    \n",
    "    print(i.evalf(), end = ', ')\n",
    "print()\n",
    "print()\n",
    "\n",
    "for i in range(len(sq_dif)-1):\n",
    "    x = (sq_dif[i] + sq_dif[i+1])/2\n",
    "    result = (-sin(x) + cos(x))*(sin(x)/2 + cos(x)/2)*sin(x) + (sin(x)/2 + cos(x)/2)**2*cos(x) \n",
    "    if result > 0:\n",
    "        print('функция возрастает на отрезке', end = ': ')\n",
    "        print(Interval(round(sq_dif[i].evalf(), 3), round(sq_dif[i+1].evalf(), 3)))\n",
    "    else:\n",
    "        print('функция убывает на отрезке', end = ': ')\n",
    "        print(Interval(round(sq_dif[i].evalf(), 3), round(sq_dif[i+1].evalf(), 3)))"
   ]
  },
  {
   "cell_type": "code",
   "execution_count": 25,
   "id": "fdb1b49b",
   "metadata": {},
   "outputs": [],
   "source": [
    "x = sp.Symbol('x')"
   ]
  },
  {
   "cell_type": "markdown",
   "id": "34548731",
   "metadata": {},
   "source": [
    "**График функции**"
   ]
  },
  {
   "cell_type": "code",
   "execution_count": 26,
   "id": "400b2fa1",
   "metadata": {},
   "outputs": [
    {
     "data": {
      "image/png": "[encoded data removed]",
      "text/plain": [
       "<Figure size 640x480 with 1 Axes>"
      ]
     },
     "metadata": {},
     "output_type": "display_data"
    },
    {
     "data": {
      "text/plain": [
       "<sympy.plotting.plot.Plot at 0x21a06471790>"
      ]
     },
     "execution_count": 26,
     "metadata": {},
     "output_type": "execute_result"
    }
   ],
   "source": [
    "sp.plot(f,ext, (x,-sp.pi, sp.pi))"
   ]
  },
  {
   "cell_type": "markdown",
   "id": "3e884053",
   "metadata": {},
   "source": [
    "**Вершины функции**"
   ]
  },
  {
   "cell_type": "code",
   "execution_count": 12,
   "id": "84d12661",
   "metadata": {},
   "outputs": [
    {
     "name": "stdout",
     "output_type": "stream",
     "text": [
      "x = -2*atan(-3/2 + sqrt(6)*sqrt(5 - sqrt(17))/2 + sqrt(17)/2), y = -(-sin(2*atan(-3/2 + sqrt(6)*sqrt(5 - sqrt(17))/2 + sqrt(17)/2))/2 + cos(2*atan(-3/2 + sqrt(6)*sqrt(5 - sqrt(17))/2 + sqrt(17)/2))/2)**2*sin(2*atan(-3/2 + sqrt(6)*sqrt(5 - sqrt(17))/2 + sqrt(17)/2))\n",
      "x = -2.082, y = -0.404\n",
      "\n",
      "x = -pi/4, y = 0\n",
      "x = -0.785, y = 0\n",
      "\n",
      "x = 2*atan(-sqrt(6)*sqrt(sqrt(17) + 5)/2 + 3/2 + sqrt(17)/2), y = (sin(2*atan(-sqrt(6)*sqrt(sqrt(17) + 5)/2 + 3/2 + sqrt(17)/2))/2 + cos(2*atan(-sqrt(6)*sqrt(sqrt(17) + 5)/2 + 3/2 + sqrt(17)/2))/2)**2*sin(2*atan(-sqrt(6)*sqrt(sqrt(17) + 5)/2 + 3/2 + sqrt(17)/2))\n",
      "x = -0.274, y = -0.032\n",
      "\n",
      "x = 2*atan(-sqrt(17)/2 + sqrt(6)*sqrt(5 - sqrt(17))/2 + 3/2), y = (cos(2*atan(-sqrt(17)/2 + sqrt(6)*sqrt(5 - sqrt(17))/2 + 3/2))/2 + sin(2*atan(-sqrt(17)/2 + sqrt(6)*sqrt(5 - sqrt(17))/2 + 3/2))/2)**2*sin(2*atan(-sqrt(17)/2 + sqrt(6)*sqrt(5 - sqrt(17))/2 + 3/2))\n",
      "x = 1.059, y = 0.404\n",
      "\n",
      "x = 3*pi/4, y = 0\n",
      "x = 2.356, y = 0\n",
      "\n",
      "x = 2*atan(3/2 + sqrt(17)/2 + sqrt(6)*sqrt(sqrt(17) + 5)/2), y = (cos(2*atan(3/2 + sqrt(17)/2 + sqrt(6)*sqrt(sqrt(17) + 5)/2))/2 + sin(2*atan(3/2 + sqrt(17)/2 + sqrt(6)*sqrt(sqrt(17) + 5)/2))/2)**2*sin(2*atan(3/2 + sqrt(17)/2 + sqrt(6)*sqrt(sqrt(17) + 5)/2))\n",
      "x = 2.868, y = 0.032\n",
      "\n"
     ]
    }
   ],
   "source": [
    "for x in sq_dif:\n",
    "    y = (sin(x)/2 + cos(x)/2) ** 2 * sin(x)\n",
    "    print(f'x = {x}, y = {y}')\n",
    "    print(f'x = {round(x.evalf(),3)}, y = {round(y.evalf(),3)}')\n",
    "    print()"
   ]
  },
  {
   "cell_type": "markdown",
   "id": "65c9afac",
   "metadata": {},
   "source": [
    "**промежутки, на котором f > 0**"
   ]
  },
  {
   "cell_type": "code",
   "execution_count": 13,
   "id": "d48a027b",
   "metadata": {},
   "outputs": [
    {
     "name": "stdout",
     "output_type": "stream",
     "text": [
      "                    3⋅π\n",
      "x > 0 ∧ x < π ∧ x ≠ ───\n",
      "                     4 \n"
     ]
    }
   ],
   "source": [
    "pprint(solve(f > 0, x), use_unicode=True)"
   ]
  },
  {
   "cell_type": "markdown",
   "id": "acfd3595",
   "metadata": {},
   "source": [
    "**промежутки, на котором f < 0**"
   ]
  },
  {
   "cell_type": "code",
   "execution_count": 14,
   "id": "b3ea3daa",
   "metadata": {},
   "outputs": [
    {
     "name": "stdout",
     "output_type": "stream",
     "text": [
      "                      7⋅π\n",
      "x > π ∧ x < 2⋅π ∧ x ≠ ───\n",
      "                       4 \n"
     ]
    }
   ],
   "source": [
    "pprint(solve(f < 0, x), use_unicode=True)"
   ]
  },
  {
   "cell_type": "code",
   "execution_count": null,
   "id": "3dc5f7c4",
   "metadata": {},
   "outputs": [],
   "source": []
  },
  {
   "cell_type": "code",
   "execution_count": null,
   "id": "1c5fc293",
   "metadata": {},
   "outputs": [],
   "source": []
  }
 ],
 "metadata": {
  "kernelspec": {
   "display_name": "Python 3 (ipykernel)",
   "language": "python",
   "name": "python3"
  },
  "language_info": {
   "codemirror_mode": {
    "name": "ipython",
    "version": 3
   },
   "file_extension": ".py",
   "mimetype": "text/x-python",
   "name": "python",
   "nbconvert_exporter": "python",
   "pygments_lexer": "ipython3",
   "version": "3.9.13"
  }
 },
 "nbformat": 4,
 "nbformat_minor": 5
}
